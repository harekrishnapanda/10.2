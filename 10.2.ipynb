{
 "cells": [
  {
   "cell_type": "code",
   "execution_count": 10,
   "metadata": {},
   "outputs": [
    {
     "name": "stdout",
     "output_type": "stream",
     "text": [
      "96.0253356749964\n"
     ]
    }
   ],
   "source": [
    "# 10.2\n",
    "import pandas as pd\n",
    "with open(\"nba_2013.csv\", 'r') as csvfile:\n",
    "    nba = pd.read_csv(csvfile)\n",
    "\n",
    "# Preprocessing\n",
    "#dropping null values\n",
    "nba=nba.dropna()\n",
    "\n",
    "import numpy as np\n",
    "# X and Y data split\n",
    "X=nba.iloc[:,0:28]\n",
    "y=nba.iloc[:,28].values\n",
    "\n",
    "# Encoding categorical data\n",
    "from sklearn.preprocessing import LabelEncoder, OneHotEncoder\n",
    "lblenc=LabelEncoder()\n",
    "X[\"player\"]=lblenc.fit_transform(X[\"player\"])\n",
    "X[\"pos\"]=lblenc.fit_transform(X[\"pos\"])\n",
    "X[\"bref_team_id\"]=lblenc.fit_transform(X[\"bref_team_id\"])\n",
    "\n",
    "# Train and Test data split\n",
    "from sklearn.model_selection import train_test_split\n",
    "X_train,X_test,y_train,y_test = train_test_split(X,y,test_size=0.2,random_state=0)\n",
    "\n",
    "# K nearest neibhour model\n",
    "from sklearn.neighbors import KNeighborsClassifier\n",
    "classifier=KNeighborsClassifier(n_neighbors=3, metric='minkowski',p=2).fit(X_train,y_train)\n",
    "\n",
    "#Prediction and acccuracy score\n",
    "y_pred = classifier.predict(X_test)\n",
    "from sklearn.metrics import confusion_matrix,r2_score\n",
    "cm=confusion_matrix(y_test,y_pred)\n",
    "rscore= r2_score(y_test,y_pred)\n",
    "print(rscore*100)"
   ]
  },
  {
   "cell_type": "code",
   "execution_count": null,
   "metadata": {},
   "outputs": [],
   "source": []
  }
 ],
 "metadata": {
  "kernelspec": {
   "display_name": "Python 3",
   "language": "python",
   "name": "python3"
  },
  "language_info": {
   "codemirror_mode": {
    "name": "ipython",
    "version": 3
   },
   "file_extension": ".py",
   "mimetype": "text/x-python",
   "name": "python",
   "nbconvert_exporter": "python",
   "pygments_lexer": "ipython3",
   "version": "3.6.5"
  }
 },
 "nbformat": 4,
 "nbformat_minor": 2
}
